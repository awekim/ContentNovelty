{
 "cells": [
  {
   "cell_type": "code",
   "execution_count": 4,
   "id": "f26ed9fd",
   "metadata": {},
   "outputs": [],
   "source": [
    "dir = 'F:/DataforPractice/ContentNovelty/'"
   ]
  },
  {
   "cell_type": "code",
   "execution_count": null,
   "id": "82558232",
   "metadata": {},
   "outputs": [],
   "source": [
    "### Convert .pasrquet to .csv\n",
    "\n",
    "import pandas as pd\n",
    "\n",
    "df = pd.read_parquet(dir+'Paper/3_external_with_novelty.parquet')\n",
    "df.to_csv(dir+'Paper/3_external_with_novelty.csv', index=False, encoding='utf-8-sig')\n",
    "\n",
    "df = pd.read_parquet(dir+'Paper/3_internal_with_novelty.parquet')\n",
    "df.to_csv(dir+'Paper/3_internal_with_novelty.csv', index=False, encoding='utf-8-sig')"
   ]
  }
 ],
 "metadata": {
  "kernelspec": {
   "display_name": "gpu_env",
   "language": "python",
   "name": "python3"
  },
  "language_info": {
   "codemirror_mode": {
    "name": "ipython",
    "version": 3
   },
   "file_extension": ".py",
   "mimetype": "text/x-python",
   "name": "python",
   "nbconvert_exporter": "python",
   "pygments_lexer": "ipython3",
   "version": "3.9.23"
  }
 },
 "nbformat": 4,
 "nbformat_minor": 5
}
